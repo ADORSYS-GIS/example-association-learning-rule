{
 "cells": [
  {
   "cell_type": "code",
   "execution_count": 19,
   "id": "initial_id",
   "metadata": {
    "collapsed": true
   },
   "outputs": [
    {
     "name": "stdout",
     "output_type": "stream",
     "text": [
      "Support of ['A', 'B']: 0.5\n"
     ]
    }
   ],
   "source": [
    "from typing import List\n",
    "\n",
    "dataset_type = List[List[object]]\n",
    "itemset_type = List[object]\n",
    "\n",
    "\n",
    "def support(itemsets: dataset_type, data_set: itemset_type) -> float:\n",
    "    \"\"\"\n",
    "    Calculate the support of itemsets in a dataset.\n",
    "    \"\"\"\n",
    "    support_count = 0\n",
    "    for transaction in itemsets:\n",
    "        if set(data_set).issubset(set(transaction)):\n",
    "            support_count += 1\n",
    "    return support_count / len(itemsets)\n",
    "\n",
    "# Define the dataset\n",
    "itemsets = [\n",
    "    ['A', 'B', 'C'],\n",
    "    ['B', 'C', 'D'],\n",
    "    ['A', 'C', 'D'],\n",
    "    ['A', 'B', 'C', 'D']\n",
    "]\n",
    "\n",
    "# Calculate the support of itemsets\n",
    "data_set = ['A', 'B']\n",
    "support_value = support(itemsets, data_set)\n",
    "print(f\"Support of {data_set}: {support_value}\")"
   ]
  }
 ],
 "metadata": {
  "kernelspec": {
   "display_name": "Python 3",
   "language": "python",
   "name": "python3"
  },
  "language_info": {
   "codemirror_mode": {
    "name": "ipython",
    "version": 3
   },
   "file_extension": ".py",
   "mimetype": "text/x-python",
   "name": "python",
   "nbconvert_exporter": "python",
   "pygments_lexer": "ipython3",
   "version": "3.10.12"
  }
 },
 "nbformat": 4,
 "nbformat_minor": 5
}
