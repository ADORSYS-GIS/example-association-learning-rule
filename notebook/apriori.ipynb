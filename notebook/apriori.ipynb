{
 "cells": [
  {
   "cell_type": "code",
   "execution_count": null,
   "id": "initial_id",
   "metadata": {
    "collapsed": true
   },
   "outputs": [],
   "source": [
    "from src.apriori import apriori"
   ]
  },
  {
   "cell_type": "code",
   "execution_count": null,
   "id": "4d2a7fe66b2d70bb",
   "metadata": {
    "collapsed": false
   },
   "outputs": [],
   "source": [
    "apriori([[1, 3], [1, 2], [1, 2, 3]], 0.5)"
   ]
  },
  {
   "cell_type": "code",
   "execution_count": null,
   "id": "116bc526",
   "metadata": {},
   "outputs": [],
   "source": [
    "from src.apriori import  apriori\n",
    "\n",
    "transactions = [\n",
    "    ['A', 'B', 'C'],\n",
    "    ['B', 'C', 'D'],\n",
    "    ['A', 'B', 'D'],\n",
    "    ['C', 'D', 'E'],\n",
    "    ['A', 'C', 'E'],\n",
    "]\n",
    "\n",
    "#from apriori import apriori\n",
    "\n",
    "frequent_itemsets, strong_rules = apriori(transactions, min_support=0.5, min_confidence=0.5)\n",
    "\n",
    "print(frequent_itemsets)\n",
    "print(strong_rules)"
   ]
  },
  {
   "cell_type": "code",
   "execution_count": null,
   "id": "8e7df229",
   "metadata": {},
   "outputs": [],
   "source": []
  }
 ],
 "metadata": {
  "kernelspec": {
   "display_name": "Python 3",
   "language": "python",
   "name": "python3"
  },
  "language_info": {
   "codemirror_mode": {
    "name": "ipython",
    "version": 3
   },
   "file_extension": ".py",
   "mimetype": "text/x-python",
   "name": "python",
   "nbconvert_exporter": "python",
   "pygments_lexer": "ipython3",
   "version": "3.10.12"
  }
 },
 "nbformat": 4,
 "nbformat_minor": 5
}
