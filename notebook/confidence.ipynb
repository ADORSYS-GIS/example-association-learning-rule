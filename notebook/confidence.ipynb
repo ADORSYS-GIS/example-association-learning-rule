{
 "cells": [
  {
   "cell_type": "code",
   "execution_count": 1,
   "id": "initial_id",
   "metadata": {
    "collapsed": true
   },
   "outputs": [
    {
     "ename": "ModuleNotFoundError",
     "evalue": "No module named 'src'",
     "output_type": "error",
     "traceback": [
      "\u001b[0;31m---------------------------------------------------------------------------\u001b[0m",
      "\u001b[0;31mModuleNotFoundError\u001b[0m                       Traceback (most recent call last)",
      "\u001b[1;32m/home/nkwa-tambe/example-association-learning-rule/notebook/confidence.ipynb Cell 1\u001b[0m line \u001b[0;36m1\n\u001b[0;32m----> <a href='vscode-notebook-cell:/home/nkwa-tambe/example-association-learning-rule/notebook/confidence.ipynb#W0sZmlsZQ%3D%3D?line=0'>1</a>\u001b[0m \u001b[39mfrom\u001b[39;00m \u001b[39msrc\u001b[39;00m\u001b[39m.\u001b[39;00m\u001b[39mconfidence\u001b[39;00m \u001b[39mimport\u001b[39;00m confidence\n\u001b[1;32m      <a href='vscode-notebook-cell:/home/nkwa-tambe/example-association-learning-rule/notebook/confidence.ipynb#W0sZmlsZQ%3D%3D?line=1'>2</a>\u001b[0m \u001b[39mfrom\u001b[39;00m \u001b[39msupport\u001b[39;00m \u001b[39mimport\u001b[39;00m support\n\u001b[1;32m      <a href='vscode-notebook-cell:/home/nkwa-tambe/example-association-learning-rule/notebook/confidence.ipynb#W0sZmlsZQ%3D%3D?line=3'>4</a>\u001b[0m dataset \u001b[39m=\u001b[39m [\n\u001b[1;32m      <a href='vscode-notebook-cell:/home/nkwa-tambe/example-association-learning-rule/notebook/confidence.ipynb#W0sZmlsZQ%3D%3D?line=4'>5</a>\u001b[0m     [\u001b[39m'\u001b[39m\u001b[39mbread\u001b[39m\u001b[39m'\u001b[39m, \u001b[39m'\u001b[39m\u001b[39mmilk\u001b[39m\u001b[39m'\u001b[39m],\n\u001b[1;32m      <a href='vscode-notebook-cell:/home/nkwa-tambe/example-association-learning-rule/notebook/confidence.ipynb#W0sZmlsZQ%3D%3D?line=5'>6</a>\u001b[0m     [\u001b[39m'\u001b[39m\u001b[39mbread\u001b[39m\u001b[39m'\u001b[39m, \u001b[39m'\u001b[39m\u001b[39mdiaper\u001b[39m\u001b[39m'\u001b[39m, \u001b[39m'\u001b[39m\u001b[39mbeer\u001b[39m\u001b[39m'\u001b[39m, \u001b[39m'\u001b[39m\u001b[39meggs\u001b[39m\u001b[39m'\u001b[39m],\n\u001b[0;32m   (...)\u001b[0m\n\u001b[1;32m      <a href='vscode-notebook-cell:/home/nkwa-tambe/example-association-learning-rule/notebook/confidence.ipynb#W0sZmlsZQ%3D%3D?line=8'>9</a>\u001b[0m     [\u001b[39m'\u001b[39m\u001b[39mbread\u001b[39m\u001b[39m'\u001b[39m, \u001b[39m'\u001b[39m\u001b[39mmilk\u001b[39m\u001b[39m'\u001b[39m, \u001b[39m'\u001b[39m\u001b[39mdiaper\u001b[39m\u001b[39m'\u001b[39m, \u001b[39m'\u001b[39m\u001b[39mcola\u001b[39m\u001b[39m'\u001b[39m]\n\u001b[1;32m     <a href='vscode-notebook-cell:/home/nkwa-tambe/example-association-learning-rule/notebook/confidence.ipynb#W0sZmlsZQ%3D%3D?line=9'>10</a>\u001b[0m ]\n",
      "\u001b[0;31mModuleNotFoundError\u001b[0m: No module named 'src'"
     ]
    }
   ],
   "source": [
    "from src.confidence import confidence\n",
    "from support import support\n",
    "\n",
    "dataset = [\n",
    "    ['bread', 'milk'],\n",
    "    ['bread', 'diaper', 'beer', 'eggs'],\n",
    "    ['milk', 'diaper', 'beer', 'cola'],\n",
    "    ['bread', 'milk', 'diaper', 'beer'],\n",
    "    ['bread', 'milk', 'diaper', 'cola']\n",
    "]\n",
    "rule = (['bread'], ['milk'])  # Rule: Bread -> Milk\n",
    "\n",
    "confidence_value = confidence(dataset, rule)\n",
    "print(f\"Confidence value is: {confidence_value}\")\n"
   ]
  },
  {
   "cell_type": "code",
   "execution_count": null,
   "id": "c2fb3453",
   "metadata": {},
   "outputs": [],
   "source": []
  }
 ],
 "metadata": {
  "kernelspec": {
   "display_name": "Python 3",
   "language": "python",
   "name": "python3"
  },
  "language_info": {
   "codemirror_mode": {
    "name": "ipython",
    "version": 3
   },
   "file_extension": ".py",
   "mimetype": "text/x-python",
   "name": "python",
   "nbconvert_exporter": "python",
   "pygments_lexer": "ipython3",
   "version": "3.10.12"
  }
 },
 "nbformat": 4,
 "nbformat_minor": 5
}
