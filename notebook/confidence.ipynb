{
 "cells": [
  {
   "cell_type": "code",
   "execution_count": 12,
   "id": "initial_id",
   "metadata": {
    "collapsed": true
   },
   "outputs": [
    {
     "name": "stdout",
     "output_type": "stream",
     "text": [
      "Confidence of ['A'] -> ['B']: 0.6666666666666666\n"
     ]
    }
   ],
   "source": [
    "from typing import List, Tuple\n",
    "\n",
    "dataset_type = List[List[object]]\n",
    "rule_type = Tuple[List[object], List[object]]\n",
    "\n",
    "\n",
    "def confidence(data_set: dataset_type, rule: rule_type) -> float:\n",
    "    \"\"\"\n",
    "    Calculate the confidence of a rule in a dataset.\n",
    "    \"\"\"\n",
    "    antecedent, consequent = rule\n",
    "    antecedent_support = support(data_set, antecedent)\n",
    "    rule_support = support(data_set, antecedent + consequent)\n",
    "    if antecedent_support == 0:\n",
    "        return 0\n",
    "    return rule_support / antecedent_support\n",
    "def support(data_set: dataset_type, itemset: List[object]) -> int:\n",
    "    count = 0\n",
    "    for transaction in data_set:\n",
    "        if all(item in transaction for item in itemset):\n",
    "            count += 1\n",
    "    return count\n",
    "\n",
    "# Test the confidence.py code\n",
    "\n",
    "transactions = [\n",
    "    ['A', 'B', 'C'],\n",
    "    ['B', 'C', 'D'],\n",
    "    ['A', 'C', 'D'],\n",
    "    ['A', 'B', 'C', 'D']\n",
    "]\n",
    "\n",
    "rule = (['A'], ['B'])\n",
    "confidence_value = confidence(transactions, rule)\n",
    "print(f\"Confidence of {rule[0]} -> {rule[1]}: {confidence_value}\")"
   ]
  }
 ],
 "metadata": {
  "kernelspec": {
   "display_name": "Python 3",
   "language": "python",
   "name": "python3"
  },
  "language_info": {
   "codemirror_mode": {
    "name": "ipython",
    "version": 3
   },
   "file_extension": ".py",
   "mimetype": "text/x-python",
   "name": "python",
   "nbconvert_exporter": "python",
   "pygments_lexer": "ipython3",
   "version": "3.10.12"
  }
 },
 "nbformat": 4,
 "nbformat_minor": 5
}
